{
 "cells": [
  {
   "cell_type": "markdown",
   "metadata": {},
   "source": [
    "# Ejercicio Aplicando PCA: Principal Component Analysis"
   ]
  },
  {
   "cell_type": "markdown",
   "metadata": {},
   "source": [
    "Lee el articulo completo en www.aprendemachinelearning.com"
   ]
  },
  {
   "cell_type": "markdown",
   "metadata": {},
   "source": [
    "### Importamos librerias"
   ]
  },
  {
   "cell_type": "code",
   "execution_count": 23,
   "metadata": {
    "ExecuteTime": {
     "end_time": "2018-10-08T14:32:36.607020Z",
     "start_time": "2018-10-08T14:32:28.345589Z"
    }
   },
   "outputs": [],
   "source": [
    "import pandas as pd\n",
    "import numpy as np\n",
    "import matplotlib.pyplot as plt\n",
    "%matplotlib inline\n",
    "plt.rcParams['figure.figsize'] = (16, 9)\n",
    "plt.style.use('ggplot')\n",
    "\n",
    "from sklearn.decomposition import PCA\n",
    "from sklearn.preprocessing import StandardScaler\n",
    "\n",
    "from sklearn.model_selection import train_test_split\n",
    "from sklearn.metrics import classification_report\n",
    "from sklearn.metrics import confusion_matrix\n",
    "from sklearn.naive_bayes import GaussianNB"
   ]
  },
  {
   "cell_type": "markdown",
   "metadata": {},
   "source": [
    "### Cargamos datos de entrada"
   ]
  },
  {
   "cell_type": "code",
   "execution_count": 24,
   "metadata": {
    "ExecuteTime": {
     "end_time": "2018-10-08T14:32:36.786815Z",
     "start_time": "2018-10-08T14:32:36.610868Z"
    }
   },
   "outputs": [],
   "source": [
    "dataframe = pd.read_csv(r\"comprar_alquilar.csv\")\n",
    "dataframe.tail(10)\n",
    "# REFERENCIAS:\n",
    "# ingresos y gastos son mensuales de 1 personas o 2 si están casados.\n",
    "# trabajo: 0-sin trabajo 1-autonomo 2-asalariado 3-empresario 4-Autonomos 5-Asalariados 6-Autonomo y Asalariado 7-Empresario y Autonomo 8 Empresarios o empresario y autónomo\n",
    "# estado_civil: 0-soltero 1-casado 2-divorciado\n",
    "# hijos: Cantidad de hijos menores (no trabajan)\n",
    "# comprar: 0-mejor alquilar 1-Comprar casa\n",
    "# hipoteca fija a 30 años con interes"
   ]
  },
  {
   "cell_type": "markdown",
   "metadata": {},
   "source": [
    "### Visualicemos las dimensiones"
   ]
  },
  {
   "cell_type": "code",
   "execution_count": 26,
   "metadata": {
    "ExecuteTime": {
     "end_time": "2018-10-08T14:32:41.251348Z",
     "start_time": "2018-10-08T14:32:36.791824Z"
    }
   },
   "outputs": [],
   "source": [
    "fig,axes =plt.subplots(5,2, figsize=(12, 9)) # 2 columnas cada una con 5 figuras, total 10 features\n",
    "alquilar=dataframe[dataframe['comprar']==0] # conviene alquilar casa\n",
    "comprar=dataframe[dataframe['comprar']==1] # conviene comprar casa\n",
    "ax=axes.ravel()\n",
    "for i in range(len(dataframe.columns)):\n",
    "  _,bins=np.histogram(dataframe[dataframe.columns[i]],bins=40)\n",
    "  ax[i].hist(alquilar.values[:,i],bins=bins,color='r',alpha=.5)# rojo alquilar\n",
    "  ax[i].hist(comprar.values[:,i],bins=bins,color='g',alpha=0.3)# verde para comprar\n",
    "  ax[i].set_title(dataframe.columns[i],fontsize=9)\n",
    "  ax[i].axes.get_xaxis().set_visible(False)\n",
    "  ax[i].set_yticks(())\n",
    "ax[0].legend(['alquilar','comprar'],loc='best',fontsize=8)\n",
    "plt.tight_layout()\n",
    "plt.show()"
   ]
  },
  {
   "cell_type": "markdown",
   "metadata": {},
   "source": [
    "### Ejemplo de como se correlacionan"
   ]
  },
  {
   "cell_type": "code",
   "execution_count": 27,
   "metadata": {
    "ExecuteTime": {
     "end_time": "2018-10-08T14:32:41.891242Z",
     "start_time": "2018-10-08T14:32:41.257866Z"
    }
   },
   "outputs": [],
   "source": [
    "plt.subplot(1,2,1)#fisrt plot\n",
    "plt.scatter(dataframe['ingresos'], dataframe['ahorros'], s=dataframe['vivienda']*0.0005, color='magenta', label='check', alpha=0.3)\n",
    "plt.xlabel('Ingresos',fontsize=12)\n",
    "plt.ylabel('Ahorros',fontsize=12)\n",
    "plt.subplot(1,2,2)# 2nd plot\n",
    "plt.scatter(dataframe['gastos_comunes'], dataframe['gastos_otros'], s=dataframe['vivienda']*0.0005, color='purple', label='check', alpha=0.3)\n",
    "plt.xlabel('Gastos Comunes',fontsize=12)\n",
    "plt.ylabel('Vivienda',fontsize=12)\n",
    "plt.tight_layout()\n",
    "plt.show()"
   ]
  },
  {
   "cell_type": "markdown",
   "metadata": {},
   "source": [
    "## Vamos a Normalizar ó Estandalizar los datos"
   ]
  },
  {
   "cell_type": "code",
   "execution_count": null,
   "metadata": {
    "ExecuteTime": {
     "end_time": "2018-10-08T14:32:41.912248Z",
     "start_time": "2018-10-08T14:32:41.895141Z"
    }
   },
   "outputs": [],
   "source": [
    "scaler=StandardScaler()#instantiate\n",
    "df = dataframe.drop(['comprar'], axis=1)\n",
    "scaler.fit(df) # calcula la media y estandar para cada dimension\n",
    "X_scaled=scaler.transform(df)# transforma los datos a su nueva escala"
   ]
  },
  {
   "cell_type": "markdown",
   "metadata": {},
   "source": [
    "## Aplicamos PCA"
   ]
  },
  {
   "cell_type": "code",
   "execution_count": null,
   "metadata": {
    "ExecuteTime": {
     "end_time": "2018-10-08T14:32:41.946179Z",
     "start_time": "2018-10-08T14:32:41.915977Z"
    }
   },
   "outputs": [],
   "source": [
    "pca=PCA(n_components=9)\n",
    "#pca=PCA(.85)\n",
    "pca.fit(X_scaled) # buscar los componentes principales\n",
    "X_pca=pca.transform(X_scaled) \n",
    "#revisemos la forma del array\n",
    "print(\"shape of X_pca\", X_pca.shape)"
   ]
  },
  {
   "cell_type": "markdown",
   "metadata": {},
   "source": [
    "### Veamos cuán buenos predictores son las nuevas dimensiones"
   ]
  },
  {
   "cell_type": "code",
   "execution_count": null,
   "metadata": {
    "ExecuteTime": {
     "end_time": "2018-10-08T14:32:41.967301Z",
     "start_time": "2018-10-08T14:32:41.949323Z"
    }
   },
   "outputs": [],
   "source": [
    "expl = pca.explained_variance_ratio_\n",
    "print(expl)\n",
    "print('suma:',sum(expl[0:5]))\n",
    "#con 5 componentes tenemos algo mas del 85% de varianza explicada"
   ]
  },
  {
   "cell_type": "markdown",
   "metadata": {},
   "source": [
    "### graficamos la variacion explicada acumulada"
   ]
  },
  {
   "cell_type": "code",
   "execution_count": null,
   "metadata": {
    "ExecuteTime": {
     "end_time": "2018-10-08T14:32:42.230724Z",
     "start_time": "2018-10-08T14:32:41.978652Z"
    }
   },
   "outputs": [],
   "source": [
    "plt.plot(np.cumsum(pca.explained_variance_ratio_))\n",
    "plt.xlabel('number of components')\n",
    "plt.ylabel('cumulative explained variance')\n",
    "plt.show()"
   ]
  },
  {
   "cell_type": "markdown",
   "metadata": {
    "ExecuteTime": {
     "end_time": "2018-10-08T14:46:25.061457Z",
     "start_time": "2018-10-08T14:46:25.047874Z"
    }
   },
   "source": [
    "## Graficamos los 2 componentes principales"
   ]
  },
  {
   "cell_type": "code",
   "execution_count": null,
   "metadata": {
    "ExecuteTime": {
     "end_time": "2018-10-08T14:32:42.526893Z",
     "start_time": "2018-10-08T14:32:42.234234Z"
    }
   },
   "outputs": [],
   "source": [
    "Xax=X_pca[:,0]\n",
    "Yax=X_pca[:,1]\n",
    "labels=dataframe['comprar'].values\n",
    "#labels=[0,1] # Malignant, Beningn\n",
    "cdict={0:'red',1:'green'}\n",
    "labl={0:'Alquilar',1:'Comprar'}\n",
    "marker={0:'*',1:'o'}\n",
    "alpha={0:.3, 1:.5}\n",
    "fig,ax=plt.subplots(figsize=(7,5))\n",
    "fig.patch.set_facecolor('white')\n",
    "for l in np.unique(labels):\n",
    "    ix=np.where(labels==l)\n",
    "    ax.scatter(Xax[ix],Yax[ix],c=cdict[l],label=labl[l],s=40,marker=marker[l],alpha=alpha[l])\n",
    "\n",
    "plt.xlabel(\"First Principal Component\",fontsize=14)\n",
    "plt.ylabel(\"Second Principal Component\",fontsize=14)\n",
    "plt.legend()\n",
    "plt.show()\n",
    "\n",
    "# please check the scatter plot of the remaining component and you will see and understand the difference"
   ]
  },
  {
   "cell_type": "markdown",
   "metadata": {},
   "source": [
    "### Veamos la correlacion entre las nuevas componentes y las dimensiones originales"
   ]
  },
  {
   "cell_type": "code",
   "execution_count": null,
   "metadata": {
    "ExecuteTime": {
     "end_time": "2018-10-08T14:32:42.848773Z",
     "start_time": "2018-10-08T14:32:42.531140Z"
    }
   },
   "outputs": [],
   "source": [
    "plt.matshow(pca.components_[0:5],cmap='viridis')\n",
    "plt.yticks([0,1,2,3,4],['1st Comp','2nd Comp','3rd Comp','4th Comp','5th Comp'],fontsize=10)\n",
    "plt.colorbar()\n",
    "plt.xticks(range(len(df.columns)),df.columns,rotation=65,ha='left')\n",
    "plt.tight_layout()\n",
    "plt.show()# "
   ]
  },
  {
   "cell_type": "code",
   "execution_count": null,
   "metadata": {
    "ExecuteTime": {
     "end_time": "2018-10-08T14:32:42.891453Z",
     "start_time": "2018-10-08T14:32:42.859081Z"
    }
   },
   "outputs": [],
   "source": [
    "components = pd.DataFrame(pca.components_, columns = df.columns)\n",
    "components"
   ]
  },
  {
   "cell_type": "markdown",
   "metadata": {},
   "source": [
    "## Preparo nuevas entradas para validar el algoritmo"
   ]
  },
  {
   "cell_type": "code",
   "execution_count": null,
   "metadata": {
    "ExecuteTime": {
     "end_time": "2018-10-08T14:32:42.939121Z",
     "start_time": "2018-10-08T14:32:42.896568Z"
    }
   },
   "outputs": [],
   "source": [
    "# Split dataset in training and test datasets\n",
    "dfScaledPca = pd.DataFrame(X_pca, columns = df.columns)\n",
    "dfScaledPca[\"comprar\"]=dataframe[\"comprar\"]\n",
    "print (dfScaledPca.head())\n",
    "print(dfScaledPca.shape)\n",
    "X_train, X_test = train_test_split(dfScaledPca, test_size=0.2, random_state=4) #6 \n",
    "y_train =X_train[\"comprar\"]\n",
    "y_test = X_test[\"comprar\"]\n",
    "X_train = X_train.drop(['comprar'], axis=1)\n",
    "X_test = X_test.drop(['comprar'], axis=1)"
   ]
  },
  {
   "cell_type": "markdown",
   "metadata": {},
   "source": [
    "## Prediccion con Gaussian Naive Bayes"
   ]
  },
  {
   "cell_type": "markdown",
   "metadata": {},
   "source": [
    "### Con datos de entrada con reducción de dimensiones por PCA"
   ]
  },
  {
   "cell_type": "code",
   "execution_count": null,
   "metadata": {
    "ExecuteTime": {
     "end_time": "2018-10-08T14:32:42.964231Z",
     "start_time": "2018-10-08T14:32:42.945162Z"
    }
   },
   "outputs": [],
   "source": [
    "# Instantiate the classifier\n",
    "gnb = GaussianNB()\n",
    "# Train classifier\n",
    "gnb.fit(\n",
    "    X_train.values,\n",
    "    y_train\n",
    ")\n",
    "y_pred = gnb.predict(X_test)"
   ]
  },
  {
   "cell_type": "markdown",
   "metadata": {},
   "source": [
    "## Resultados Obtenidos"
   ]
  },
  {
   "cell_type": "code",
   "execution_count": null,
   "metadata": {
    "ExecuteTime": {
     "end_time": "2018-10-08T14:32:42.984461Z",
     "start_time": "2018-10-08T14:32:42.968030Z"
    }
   },
   "outputs": [],
   "source": [
    "print('Precisión en el set de Entrenamiento: {:.2f}'\n",
    "     .format(gnb.score(X_train, y_train))) #batir  87\n",
    "print('Precisión en el set de Test: {:.2f}'\n",
    "     .format(gnb.score(X_test, y_test)))  #batir  90"
   ]
  },
  {
   "cell_type": "code",
   "execution_count": null,
   "metadata": {
    "ExecuteTime": {
     "end_time": "2018-10-08T14:32:43.007910Z",
     "start_time": "2018-10-08T14:32:42.996517Z"
    }
   },
   "outputs": [],
   "source": [
    "# Print Test results\n",
    "print(\"Total de Muestras en Test: {}\\nFallos: {}\"\n",
    "      .format(\n",
    "          X_test.shape[0],\n",
    "          (y_test != y_pred).sum()\n",
    "))"
   ]
  },
  {
   "cell_type": "code",
   "execution_count": null,
   "metadata": {
    "ExecuteTime": {
     "end_time": "2018-10-08T14:32:43.034633Z",
     "start_time": "2018-10-08T14:32:43.016664Z"
    }
   },
   "outputs": [],
   "source": [
    "print(confusion_matrix(y_test, y_pred))\n",
    "print(classification_report(y_test, y_pred))"
   ]
  },
  {
   "cell_type": "markdown",
   "metadata": {},
   "source": [
    "### Comprobamos con predicciones individuales"
   ]
  },
  {
   "cell_type": "code",
   "execution_count": null,
   "metadata": {
    "ExecuteTime": {
     "end_time": "2018-10-08T14:52:03.448702Z",
     "start_time": "2018-10-08T14:52:03.440685Z"
    }
   },
   "outputs": [],
   "source": [
    "X_scaledTest=scaler.transform([[6830,1298,345,309,46761,429812,1,1,5], # 1\n",
    "                               [4054,1095,371,440,22183,223971,1,0,3], # 0\n",
    "                               [6455,1033,98,795,57463,321779,2,1,8], # 1\n",
    "                               [6470,1035,39,782,57439,606291,0,0,1] #0\n",
    "                    ])\n",
    "X_pcaTest=pca.transform(X_scaledTest) \n",
    "#print(X_pcaTest)\n",
    "print(gnb.predict(X_pcaTest))"
   ]
  },
  {
   "cell_type": "code",
   "execution_count": null,
   "metadata": {},
   "outputs": [],
   "source": []
  }
 ],
 "metadata": {
  "kernelspec": {
   "display_name": "Python 3 (ipykernel)",
   "language": "python",
   "name": "python3"
  },
  "language_info": {
   "codemirror_mode": {
    "name": "ipython",
    "version": 3
   },
   "file_extension": ".py",
   "mimetype": "text/x-python",
   "name": "python",
   "nbconvert_exporter": "python",
   "pygments_lexer": "ipython3",
   "version": "3.11.3"
  }
 },
 "nbformat": 4,
 "nbformat_minor": 2
}
